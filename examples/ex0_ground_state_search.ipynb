{
 "cells": [
  {
   "cell_type": "code",
   "execution_count": null,
   "id": "b89ce15b",
   "metadata": {},
   "outputs": [],
   "source": [
    "import sys\n",
    "# Find jVMC package\n",
    "sys.path.append(sys.path[0] + \"/..\")\n",
    "\n",
    "import jax\n",
    "from jax.config import config\n",
    "config.update(\"jax_enable_x64\", True)\n",
    "\n",
    "import jax.random as random\n",
    "import jax.numpy as jnp\n",
    "import numpy as np\n",
    "import matplotlib.pyplot as plt\n",
    "%matplotlib inline"
   ]
  },
  {
   "cell_type": "code",
   "execution_count": null,
   "id": "d22bbd8b",
   "metadata": {},
   "outputs": [],
   "source": [
    "# install the pip package and import jVMC\n",
    "!rm -rf vmc_jax\n",
    "!git clone --branch dev_0.1.0 https://github.com/markusschmitt/vmc_jax.git\n",
    "%cd vmc_jax\n",
    "!python setup.py bdist_wheel\n",
    "!python -m pip install dist/*.whl\n",
    "%cd ..\n",
    "\n",
    "sys.path.insert(0,'/content/vmc_jax/')\n",
    "\n",
    "import jVMC"
   ]
  },
  {
   "cell_type": "code",
   "execution_count": null,
   "id": "058f0001",
   "metadata": {},
   "outputs": [],
   "source": [
    "# DMRG energies produced with the TeNPy library https://github.com/tenpy/tenpy\n",
    "DMRG_energies = {\"10\": -1.0545844370449059, \"20\":-1.0900383739, \"100\":-1.1194665474274852}\n",
    "\n",
    "L = 10\n",
    "g = -0.7\n",
    "\n",
    "# Initialize net\n",
    "net = jVMC.nets.CpxRBM(numHidden=8, bias=False)\n",
    "params = net.init(jax.random.PRNGKey(1234), jnp.zeros((L,), dtype=np.int32))\n",
    "\n",
    "psi = jVMC.vqs.NQS(net, params)  # Variational wave function"
   ]
  },
  {
   "cell_type": "code",
   "execution_count": null,
   "id": "f6989de3",
   "metadata": {},
   "outputs": [],
   "source": [
    "# Set up hamiltonian\n",
    "hamiltonian = jVMC.operator.BranchFreeOperator()\n",
    "for l in range(L-1):\n",
    "    hamiltonian.add(jVMC.operator.scal_opstr(-1., (jVMC.operator.Sz(l), jVMC.operator.Sz((l + 1) % L))))\n",
    "    hamiltonian.add(jVMC.operator.scal_opstr(g, (jVMC.operator.Sx(l), )))\n",
    "hamiltonian.add(jVMC.operator.scal_opstr(g, (jVMC.operator.Sx(L-1), )))"
   ]
  },
  {
   "cell_type": "code",
   "execution_count": null,
   "id": "bfd19ac7",
   "metadata": {},
   "outputs": [],
   "source": [
    "# Set up sampler\n",
    "sampler = jVMC.sampler.MCSampler(psi, (L,), random.PRNGKey(4321), updateProposer=jVMC.sampler.propose_spin_flip_Z2,\n",
    "                                 numChains=100, sweepSteps=L,\n",
    "                                 numSamples=5000, thermalizationSweeps=25)\n",
    "\n",
    "# Set up TDVP\n",
    "tdvpEquation = jVMC.util.tdvp.TDVP(sampler, rhsPrefactor=1.,\n",
    "                                   svdTol=1e-8, diagonalShift=10, makeReal='real')\n",
    "\n",
    "stepper = jVMC.util.stepper.Euler(timeStep=1e-2)  # ODE integrator"
   ]
  },
  {
   "cell_type": "code",
   "execution_count": null,
   "id": "564ab5ad",
   "metadata": {},
   "outputs": [],
   "source": [
    "res = []\n",
    "for n in range(300):\n",
    "\n",
    "    dp, _ = stepper.step(0, tdvpEquation, psi.get_parameters(), hamiltonian=hamiltonian, psi=psi, numSamples=None)\n",
    "    psi.set_parameters(dp)\n",
    "\n",
    "    print(n, jax.numpy.real(tdvpEquation.ElocMean0) / L, tdvpEquation.ElocVar0 / L)\n",
    "\n",
    "    res.append([n, jax.numpy.real(tdvpEquation.ElocMean0) / L, tdvpEquation.ElocVar0 / L])"
   ]
  },
  {
   "cell_type": "code",
   "execution_count": null,
   "id": "b9d0a52b",
   "metadata": {},
   "outputs": [],
   "source": [
    "res = np.array(res)\n",
    "\n",
    "fig, ax = plt.subplots(2,1, sharex=True, figsize=[4.8,4.8])\n",
    "if str(L) in DMRG_energies:\n",
    "    ax[0].semilogy(res[:, 0], res[:, 1] - DMRG_energies[str(L)], '-', label=r\"$L=\"+str(L)+\"$\")\n",
    "    ax[0].set_ylabel(r'$(E-E_0)/L$')\n",
    "else:\n",
    "    ax[0].plot(res[:, 0], res[:, 1], '-')\n",
    "    ax[0].set_ylabel(r'$E/L$')\n",
    "\n",
    "ax[1].semilogy(res[:, 0], res[:, 2], '-')\n",
    "ax[1].set_ylabel(r'Var$(E)/L$')\n",
    "ax[0].legend()\n",
    "plt.xlabel('iteration')\n",
    "plt.tight_layout()\n",
    "plt.savefig('gs_search.pdf')"
   ]
  },
  {
   "cell_type": "code",
   "execution_count": null,
   "id": "1005c855",
   "metadata": {},
   "outputs": [],
   "source": []
  }
 ],
 "metadata": {
  "kernelspec": {
   "display_name": "Python 3",
   "language": "python",
   "name": "python3"
  },
  "language_info": {
   "codemirror_mode": {
    "name": "ipython",
    "version": 3
   },
   "file_extension": ".py",
   "mimetype": "text/x-python",
   "name": "python",
   "nbconvert_exporter": "python",
   "pygments_lexer": "ipython3",
   "version": "3.7.10"
  }
 },
 "nbformat": 4,
 "nbformat_minor": 5
}
